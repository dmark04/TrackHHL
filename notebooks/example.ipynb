{
 "cells": [
  {
   "cell_type": "markdown",
   "metadata": {},
   "source": [
    "# Basic imports"
   ]
  },
  {
   "cell_type": "code",
   "execution_count": 1,
   "metadata": {},
   "outputs": [],
   "source": [
    "import trackhhl.toy.simple_generator as toy\n",
    "import trackhhl.hamiltonians.simple_hamiltonian as hamiltonian\n",
    "import numpy as np"
   ]
  },
  {
   "cell_type": "markdown",
   "metadata": {},
   "source": [
    "# Detector\n",
    "\n",
    "We are going to define a simple detector geometry of 3 parallel infinitely large modules, placed along the $z$-axis"
   ]
  },
  {
   "cell_type": "code",
   "execution_count": 3,
   "metadata": {},
   "outputs": [
    {
     "data": {
      "text/plain": [
       "SimpleDetectorGeometry(module_id=[0, 1, 2], lx=[inf, inf, inf], ly=[inf, inf, inf], z=[1.0, 2.0, 3.0])"
      ]
     },
     "execution_count": 3,
     "metadata": {},
     "output_type": "execute_result"
    }
   ],
   "source": [
    "N_MODULES = 3\n",
    "LX = float(\"+inf\")\n",
    "LY = float(\"+inf\")\n",
    "Z_SPACING = 1.0\n",
    "\n",
    "detector = toy.SimpleDetectorGeometry(\n",
    "    module_id=list(range(N_MODULES)),\n",
    "    lx=[LX]*N_MODULES,\n",
    "    ly=[LY]*N_MODULES,\n",
    "    z=[i+Z_SPACING for i in range(N_MODULES)]\n",
    ")\n",
    "\n",
    "detector"
   ]
  },
  {
   "cell_type": "markdown",
   "metadata": {},
   "source": [
    "# Particle generator\n",
    "\n",
    "Now we define a simple particle generator that will fire particles flying in straight lines through the our detector."
   ]
  },
  {
   "cell_type": "code",
   "execution_count": 4,
   "metadata": {},
   "outputs": [],
   "source": [
    "generator = toy.SimpleGenerator(\n",
    "    detector_geometry=detector,\n",
    "    theta_max=np.pi/6\n",
    ")"
   ]
  },
  {
   "cell_type": "markdown",
   "metadata": {},
   "source": [
    "Let's generate a simple event"
   ]
  },
  {
   "cell_type": "code",
   "execution_count": 6,
   "metadata": {},
   "outputs": [
    {
     "data": {
      "text/plain": [
       "[Hit(hit_id=0, x=0.30588667736481606, y=0.3130309362820134, z=1.0, module_id=0, track_id=0),\n",
       " Hit(hit_id=3, x=-0.13920521888931472, y=0.42091217840973055, z=1.0, module_id=0, track_id=1),\n",
       " Hit(hit_id=6, x=0.22470859735407933, y=0.07935907082505535, z=1.0, module_id=0, track_id=2),\n",
       " Hit(hit_id=1, x=0.6117733547296321, y=0.6260618725640268, z=2.0, module_id=1, track_id=0),\n",
       " Hit(hit_id=4, x=-0.27841043777862945, y=0.8418243568194611, z=2.0, module_id=1, track_id=1),\n",
       " Hit(hit_id=7, x=0.44941719470815866, y=0.1587181416501107, z=2.0, module_id=1, track_id=2),\n",
       " Hit(hit_id=2, x=0.9176600320944482, y=0.9390928088460403, z=3.0, module_id=2, track_id=0),\n",
       " Hit(hit_id=5, x=-0.41761565666794415, y=1.2627365352291917, z=3.0, module_id=2, track_id=1),\n",
       " Hit(hit_id=8, x=0.674125792062238, y=0.23807721247516606, z=3.0, module_id=2, track_id=2)]"
      ]
     },
     "execution_count": 6,
     "metadata": {},
     "output_type": "execute_result"
    }
   ],
   "source": [
    "N_PARTICLES = 3\n",
    "event = generator.generate_event(N_PARTICLES)\n",
    "event.hits"
   ]
  },
  {
   "cell_type": "markdown",
   "metadata": {},
   "source": [
    "# Hamiltonian initialization\n",
    "\n",
    "Let's initialize the Hamiltonian."
   ]
  },
  {
   "cell_type": "code",
   "execution_count": 7,
   "metadata": {},
   "outputs": [],
   "source": [
    "ham = hamiltonian.SimpleHamiltonian(\n",
    "    epsilon=1e-7,\n",
    "    gamma=2.0,\n",
    "    delta=1.0\n",
    ")"
   ]
  },
  {
   "cell_type": "code",
   "execution_count": 8,
   "metadata": {},
   "outputs": [
    {
     "data": {
      "text/plain": [
       "(<18x18 sparse matrix of type '<class 'numpy.float64'>'\n",
       " \twith 24 stored elements in Compressed Sparse Column format>,\n",
       " array([1., 1., 1., 1., 1., 1., 1., 1., 1., 1., 1., 1., 1., 1., 1., 1., 1.,\n",
       "        1.]))"
      ]
     },
     "execution_count": 8,
     "metadata": {},
     "output_type": "execute_result"
    }
   ],
   "source": [
    "ham.construct_hamiltonian(event=event)"
   ]
  },
  {
   "cell_type": "markdown",
   "metadata": {},
   "source": [
    "# Classical solver\n",
    "\n",
    "Let's solve this event using a classical linear solver (the Conjugate Gradient Descent method)"
   ]
  },
  {
   "cell_type": "code",
   "execution_count": 9,
   "metadata": {},
   "outputs": [
    {
     "data": {
      "text/plain": [
       "array([0.5       , 0.33333333, 0.33333333, 0.33333333, 0.5       ,\n",
       "       0.33333333, 0.33333333, 0.33333333, 0.5       , 0.5       ,\n",
       "       0.33333333, 0.33333333, 0.33333333, 0.5       , 0.33333333,\n",
       "       0.33333333, 0.33333333, 0.5       ])"
      ]
     },
     "execution_count": 9,
     "metadata": {},
     "output_type": "execute_result"
    }
   ],
   "source": [
    "classical_solution = ham.solve_classicaly()\n",
    "classical_solution"
   ]
  },
  {
   "cell_type": "markdown",
   "metadata": {},
   "source": [
    "Let's apply a threshold $T = 0.45$"
   ]
  },
  {
   "cell_type": "code",
   "execution_count": 10,
   "metadata": {},
   "outputs": [],
   "source": [
    "T = .45"
   ]
  },
  {
   "cell_type": "code",
   "execution_count": 11,
   "metadata": {},
   "outputs": [
    {
     "data": {
      "text/plain": [
       "array([1, 0, 0, 0, 1, 0, 0, 0, 1, 1, 0, 0, 0, 1, 0, 0, 0, 1])"
      ]
     },
     "execution_count": 11,
     "metadata": {},
     "output_type": "execute_result"
    }
   ],
   "source": [
    "discretized_classical_solution = (classical_solution > T).astype(int)\n",
    "discretized_classical_solution"
   ]
  },
  {
   "cell_type": "markdown",
   "metadata": {},
   "source": [
    "# HHL solver\n",
    "\n",
    "Now let's solve the same event using the HHL linear solver provided by Qiskit."
   ]
  },
  {
   "cell_type": "code",
   "execution_count": 45,
   "metadata": {},
   "outputs": [
    {
     "name": "stderr",
     "output_type": "stream",
     "text": [
      "/Users/davidenicotra/Library/Caches/pypoetry/virtualenvs/trackhhl-oT22-ukJ-py3.11/lib/python3.11/site-packages/numpy/linalg/linalg.py:2154: RuntimeWarning: divide by zero encountered in det\n",
      "  r = _umath_linalg.det(a, signature=signature)\n",
      "/Users/davidenicotra/Library/Caches/pypoetry/virtualenvs/trackhhl-oT22-ukJ-py3.11/lib/python3.11/site-packages/numpy/linalg/linalg.py:2154: RuntimeWarning: invalid value encountered in det\n",
      "  r = _umath_linalg.det(a, signature=signature)\n"
     ]
    },
    {
     "data": {
      "text/plain": [
       "array([0.5       , 0.33333333, 0.33333333, 0.33333333, 0.5       ,\n",
       "       0.33333333, 0.33333333, 0.33333333, 0.5       , 0.5       ,\n",
       "       0.33333333, 0.33333333, 0.33333333, 0.5       , 0.33333333,\n",
       "       0.33333333, 0.33333333, 0.5       ])"
      ]
     },
     "execution_count": 45,
     "metadata": {},
     "output_type": "execute_result"
    }
   ],
   "source": [
    "hhl_solution = ham.solve_hhl()\n",
    "hhl_solution"
   ]
  },
  {
   "cell_type": "markdown",
   "metadata": {},
   "source": [
    "Let's discretize using the same threshold $T=0.45$"
   ]
  },
  {
   "cell_type": "code",
   "execution_count": 46,
   "metadata": {},
   "outputs": [
    {
     "data": {
      "text/plain": [
       "array([1, 0, 0, 0, 1, 0, 0, 0, 1, 1, 0, 0, 0, 1, 0, 0, 0, 1])"
      ]
     },
     "execution_count": 46,
     "metadata": {},
     "output_type": "execute_result"
    }
   ],
   "source": [
    "discretized_hhl_solution = (hhl_solution > .45).astype(int)\n",
    "discretized_classical_solution"
   ]
  },
  {
   "cell_type": "markdown",
   "metadata": {},
   "source": [
    "# Comparison\n",
    "\n",
    "Let's compare the two solutions with the Monte Carlo truth"
   ]
  },
  {
   "cell_type": "code",
   "execution_count": 47,
   "metadata": {},
   "outputs": [
    {
     "name": "stdout",
     "output_type": "stream",
     "text": [
      "Classical solution: \t [1 0 0 0 1 0 0 0 1 1 0 0 0 1 0 0 0 1]\n",
      "HHL solution: \t\t [1 0 0 0 1 0 0 0 1 1 0 0 0 1 0 0 0 1]\n",
      "\n",
      "MC truth: \t\t [1 0 0 0 1 0 0 0 1 1 0 0 0 1 0 0 0 1]\n"
     ]
    }
   ],
   "source": [
    "print(\"Classical solution: \\t\", discretized_classical_solution)\n",
    "print(\"HHL solution: \\t\\t\", discretized_classical_solution)\n",
    "print()\n",
    "MC_truth = [ 1 if seg.hit_from.track_id == seg.hit_to.track_id else 0 for seg in ham.segments]\n",
    "print(\"MC truth: \\t\\t\",np.array(MC_truth))"
   ]
  },
  {
   "cell_type": "code",
   "execution_count": null,
   "metadata": {},
   "outputs": [],
   "source": []
  }
 ],
 "metadata": {
  "kernelspec": {
   "display_name": "trackhhl-oT22-ukJ-py3.11",
   "language": "python",
   "name": "python3"
  },
  "language_info": {
   "codemirror_mode": {
    "name": "ipython",
    "version": 3
   },
   "file_extension": ".py",
   "mimetype": "text/x-python",
   "name": "python",
   "nbconvert_exporter": "python",
   "pygments_lexer": "ipython3",
   "version": "3.11.6"
  }
 },
 "nbformat": 4,
 "nbformat_minor": 2
}
